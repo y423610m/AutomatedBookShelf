{
  "nbformat": 4,
  "nbformat_minor": 5,
  "metadata": {
    "kernelspec": {
      "display_name": "Python 3",
      "language": "python",
      "name": "python3"
    },
    "language_info": {
      "codemirror_mode": {
        "name": "ipython",
        "version": 3
      },
      "file_extension": ".py",
      "mimetype": "text/x-python",
      "name": "python",
      "nbconvert_exporter": "python",
      "pygments_lexer": "ipython3",
      "version": "3.8.8"
    },
    "colab": {
      "name": "取り出し.ipynb",
      "provenance": []
    }
  },
  "cells": [
    {
      "cell_type": "markdown",
      "metadata": {
        "id": "BUCMgCGpwWUI"
      },
      "source": [
        ""
      ],
      "id": "BUCMgCGpwWUI"
    },
    {
      "cell_type": "markdown",
      "metadata": {
        "id": "8sVb-rwkw9gP"
      },
      "source": [
        "-------------手順１------------------\n",
        "次のセルを選択して実行．本の冊数を入力後，各バーコードを読み取る（半角）．"
      ],
      "id": "8sVb-rwkw9gP"
    },
    {
      "cell_type": "code",
      "metadata": {
        "id": "65bb53d5",
        "outputId": "300753a5-8482-423e-de7f-52dca35eb2e4"
      },
      "source": [
        "#本の冊数とバーコード取得\n",
        "list = []\n",
        "n = int(input(\"本の冊数は？  \"))\n",
        "for i in range(n):\n",
        "  code = str(input(str(i+1)+\"冊目の本を読み取ってください \"))\n",
        "  list.append(code)\n",
        "list\n",
        "# 050112011009344 難聴\n",
        "# 027232003131867 自動書庫本"
      ],
      "id": "65bb53d5",
      "execution_count": null,
      "outputs": [
        {
          "output_type": "stream",
          "text": [
            "本の冊数は？  1\n",
            "1冊目の本を読み取ってください 027232003131867\n"
          ],
          "name": "stdout"
        },
        {
          "output_type": "execute_result",
          "data": {
            "text/plain": [
              "['027232003131867']"
            ]
          },
          "metadata": {
            "tags": []
          },
          "execution_count": 4
        }
      ]
    },
    {
      "cell_type": "markdown",
      "metadata": {
        "id": "0OAo0aoTxu9s"
      },
      "source": [
        "-------------手順２------------------\n",
        "次のセルを選択して実行すると，自動的にchromeが起動して開始される．"
      ],
      "id": "0OAo0aoTxu9s"
    },
    {
      "cell_type": "code",
      "metadata": {
        "id": "1b48e7d9",
        "outputId": "0653dbd5-0d16-463e-9140-72ebdbcb586d"
      },
      "source": [
        "#selenium 準備\n",
        "from selenium import webdriver\n",
        "url_lib = \"https://www.lib.kyushu-u.ac.jp/ja\"\n",
        "\n",
        "options = webdriver.ChromeOptions()\n",
        "#options.add_argument('--headless')\n",
        "options.add_argument('--no-sandbox')\n",
        "options.add_argument('--disable-dev-shm-usage')\n",
        "\n",
        "#driver = webdriver.Chrome('chromedriver',options=options)\n",
        "driver = webdriver.Chrome('chromedriver',options=options)\n",
        "#driver.current_url\n",
        "\n",
        "#各本について、バーコード入力、検索、一番上位の検索結果に移動、\n",
        "cnt = 0\n",
        "for code in list:\n",
        "  cnt += 1\n",
        "  driver.get(url_lib)\n",
        "  driver.find_element_by_id(\"edit-kywd\").send_keys(code)\n",
        "  driver.find_element_by_id(\"edit-submit--2\").click()\n",
        "  result = driver.find_elements_by_class_name(\"result-book-title\")[0]\n",
        "  driver.find_elements_by_link_text(result.text)[0].click()\n",
        "  #print(driver.current_url)\n",
        "  #↑ここまでで取り出しボタンのあるページまで移動した\n",
        "\n",
        "  #以下のフロー\n",
        "  #バーコード一覧取得\n",
        "  result_codes = driver.find_elements_by_class_name(\"w-shorter\")#5*i+1が資料番号\n",
        "  #取り出しボタン取得\n",
        "  buttons = driver.find_elements_by_class_name(\"btn-container\")#4*n+3が出庫ボタン\n",
        "\n",
        "  #バーコードが一致していれば取り出しボタン押す\n",
        "  for i in range(int(len(result_codes)/5)):\n",
        "    found = False\n",
        "    if code == result_codes[5*i+1].text:\n",
        "      found = True\n",
        "      print(str(cnt) +\"冊目  \" + code + \"  found\")\n",
        "      last_url = driver.current_url\n",
        "      buttons[4*i+3].click()\n",
        "      if driver.current_url == last_url:\n",
        "        print(\"  出庫中\")\n",
        "      else:\n",
        "        print(driver.current_url)\n",
        "      print(\"\")\n",
        "\n",
        "      #次の文はIPアドレスが必要なのでローカル環境で実行が必要\n",
        "      #driver.find_elements_by_class_name(\"form-submit\")[0].click() #送信ボタン\n",
        "      break\n",
        "\n",
        "    if found == False and i == int(len(result_codes)/5) - 1:\n",
        "      print(str(cnt)+\"冊目  \" + code + \"  NOT found\")\n",
        "      print(\"\")\n",
        "\n",
        "\n",
        "  #ループ終了\n",
        "\n",
        "  print(\"\")"
      ],
      "id": "1b48e7d9",
      "execution_count": null,
      "outputs": [
        {
          "output_type": "stream",
          "text": [
            "1冊目  027232003131867  found\n",
            "https://www.lib.kyushu-u.ac.jp/ja/services/autolib/?slftype=5&bookid=022232001067647&slfno=1&rtph=https://catalog.lib.kyushu-u.ac.jp/opac_details/?lang=0%26amode=11%26opkey=B162711333839590%26bibid=1000467221%26start=1%26listnum=0%26place=%26check=0\n",
            "\n",
            "\n"
          ],
          "name": "stdout"
        }
      ]
    }
  ]
}